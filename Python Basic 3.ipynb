{
 "cells": [
  {
   "cell_type": "markdown",
   "metadata": {},
   "source": [
    "#### 1.Write a Python function check the 3 is prime or not?"
   ]
  },
  {
   "cell_type": "code",
   "execution_count": 26,
   "metadata": {},
   "outputs": [
    {
     "name": "stdout",
     "output_type": "stream",
     "text": [
      "6 is not a prime\n",
      "6 is not a prime\n"
     ]
    }
   ],
   "source": [
    "def prime(n):\n",
    "    if n<=1:\n",
    "        print(n, \"n is not a prime\")\n",
    "    elif (n>0):\n",
    "        for i in range (2,n):\n",
    "            if n%i==0:\n",
    "                print(n, \"is not a prime\")\n",
    "    else :\n",
    "        print(n, \"is a prime num\")\n",
    "prime(6)        "
   ]
  },
  {
   "cell_type": "markdown",
   "metadata": {},
   "source": [
    "#### 2.Write a Python function string = ASDBDSA is palindrome or not?"
   ]
  },
  {
   "cell_type": "code",
   "execution_count": 29,
   "metadata": {},
   "outputs": [
    {
     "name": "stdout",
     "output_type": "stream",
     "text": [
      "Palindrome\n"
     ]
    }
   ],
   "source": [
    "def pal():\n",
    "    a = \"ASDBDSA\"\n",
    "    if a == a[::-1]:\n",
    "        print(\"Palindrome\")\n",
    "    else :\n",
    "        print(\"Not a palindrome\")\n",
    "pal()"
   ]
  },
  {
   "cell_type": "markdown",
   "metadata": {},
   "source": [
    "#### 3. Write a Python function Print 7 Pascal's triangle."
   ]
  },
  {
   "cell_type": "code",
   "execution_count": 30,
   "metadata": {},
   "outputs": [
    {
     "name": "stdout",
     "output_type": "stream",
     "text": [
      "Enter the number of rows : 7\n",
      "                          1 \n",
      "                       1     1 \n",
      "                    1     2     1 \n",
      "                 1     3     3     1 \n",
      "              1     4     6     4     1 \n",
      "           1     5    10    10     5     1 \n",
      "        1     6    15    20    15     6     1 \n"
     ]
    }
   ],
   "source": [
    "n=int(input('Enter the number of rows : '))\n",
    "a=[]\n",
    "\n",
    "for i in range(0,n):\n",
    "    a.append([])\n",
    "    a[i].append(1)\n",
    "    for j in range(1,i):\n",
    "        a[i].append(a[i-1][j-1]+a[i-1][j])\n",
    "    if(n!=0):\n",
    "        a[i].append(1)\n",
    "    \n",
    "for i in range(0,n):\n",
    "    print(\"   \" *(n-i),end=' ',sep=' ')\n",
    "    for j in range(0,i+1):\n",
    "        print('{0:5}'.format(a[i][j]),end=' ',sep=' ')\n",
    "    print()"
   ]
  },
  {
   "cell_type": "markdown",
   "metadata": {},
   "source": [
    "#### 4. Write a Python function Print given range (1,10) print i**2?"
   ]
  },
  {
   "cell_type": "code",
   "execution_count": 10,
   "metadata": {},
   "outputs": [
    {
     "name": "stdout",
     "output_type": "stream",
     "text": [
      "0 1 4 9 16 25 36 49 64 81 "
     ]
    }
   ],
   "source": [
    "def square():\n",
    "    for i in range(0,10):\n",
    "        print(i**2, end= ' ')\n",
    "square()"
   ]
  },
  {
   "cell_type": "markdown",
   "metadata": {},
   "source": [
    "#### 5.Write a Python function to calculate the harmonic for number (4,9)"
   ]
  },
  {
   "cell_type": "code",
   "execution_count": 31,
   "metadata": {},
   "outputs": [
    {
     "name": "stdout",
     "output_type": "stream",
     "text": [
      "Enter the starting range : 4\n",
      "Enter the final range : 9\n",
      "The harmonic mean is 5.54\n"
     ]
    }
   ],
   "source": [
    "def harm_mean():\n",
    "    x=int(input('Enter the starting range : '))\n",
    "    y=int(input('Enter the final range : '))\n",
    "    deno=(1/x)+(1/y)\n",
    "    harm=2/deno\n",
    "    return harm\n",
    "print('The harmonic mean is %0.2f'%harm_mean())"
   ]
  },
  {
   "cell_type": "markdown",
   "metadata": {},
   "source": [
    "#### 6.Write a Python function to calculate the geometric for number (4,9)"
   ]
  },
  {
   "cell_type": "code",
   "execution_count": 33,
   "metadata": {},
   "outputs": [
    {
     "name": "stdout",
     "output_type": "stream",
     "text": [
      "Enter the starting range : 4\n",
      "Enter the final range : 9\n",
      "The geometric mean is 6.00\n"
     ]
    }
   ],
   "source": [
    "def geometr_mean():\n",
    "    x=int(input('Enter the starting range : '))\n",
    "    y=int(input('Enter the final range : '))\n",
    "    geom=(x*y)**(0.5)\n",
    "    return geom\n",
    "print('The geometric mean is %0.2f'%geometr_mean())\n",
    "        "
   ]
  },
  {
   "cell_type": "markdown",
   "metadata": {},
   "source": [
    "#### Types of arguments\n",
    "\n",
    "\n",
    "    1. Required arguments\n",
    "    2. Keyword arguments\n",
    "    3. Default arguments\n",
    "    4. Variable-length arguments"
   ]
  },
  {
   "cell_type": "code",
   "execution_count": null,
   "metadata": {},
   "outputs": [],
   "source": []
  },
  {
   "cell_type": "markdown",
   "metadata": {},
   "source": [
    "#### 1. Required arguments: (the function calculate returns the sum of two arguments a and b )"
   ]
  },
  {
   "cell_type": "code",
   "execution_count": 12,
   "metadata": {},
   "outputs": [
    {
     "data": {
      "text/plain": [
       "5"
      ]
     },
     "execution_count": 12,
     "metadata": {},
     "output_type": "execute_result"
    }
   ],
   "source": [
    "def add(a,b):\n",
    "    return a+b\n",
    "add(2,3)"
   ]
  },
  {
   "cell_type": "markdown",
   "metadata": {},
   "source": [
    "#### 2.Keyword arguments:(The function simple_interest(p, t, r) is called with the keyword arguments)"
   ]
  },
  {
   "cell_type": "code",
   "execution_count": 14,
   "metadata": {},
   "outputs": [
    {
     "name": "stdout",
     "output_type": "stream",
     "text": [
      "the simple interest is : 1600.0 \n"
     ]
    }
   ],
   "source": [
    "def si(p,t,r):\n",
    "    simple_i = (p*t*r)/100\n",
    "    print(\"the simple interest is : {} \".format(simple_i))\n",
    "si(10000,2,8)"
   ]
  },
  {
   "cell_type": "markdown",
   "metadata": {},
   "source": [
    "#### 3. Default arguments"
   ]
  },
  {
   "cell_type": "code",
   "execution_count": 16,
   "metadata": {},
   "outputs": [
    {
     "name": "stdout",
     "output_type": "stream",
     "text": [
      "the simple interest is : 1560.0 \n"
     ]
    }
   ],
   "source": [
    "def sii(p,t,r = 7.8):\n",
    "    simple_i = (p*t*r)/100\n",
    "    print(\"the simple interest is : {} \".format(simple_i))\n",
    "sii(10000,2)\n",
    "    "
   ]
  },
  {
   "cell_type": "markdown",
   "metadata": {},
   "source": [
    "## lambda function"
   ]
  },
  {
   "cell_type": "markdown",
   "metadata": {},
   "source": [
    "###### 1. Write a map function to find if the given list = [15, 47, 122, 48, 54, 562, 80, 923, 173, 461]  is divisible by 16 output is boolean ?"
   ]
  },
  {
   "cell_type": "code",
   "execution_count": 17,
   "metadata": {},
   "outputs": [
    {
     "name": "stdout",
     "output_type": "stream",
     "text": [
      "[False, False, False, True, False, False, True, False, False, False]\n"
     ]
    }
   ],
   "source": [
    "st = [15, 47, 122, 48, 54, 562, 80, 923, 173, 461]\n",
    "lam = lambda x : True if x%16==0 else False\n",
    "l = list(map(lam,st))\n",
    "print(l)"
   ]
  },
  {
   "cell_type": "markdown",
   "metadata": {},
   "source": [
    "###### 2. Use the map() function to calculate the cube of all numbers in the given list: lis1 = [2,4,5,6677,353,464]\n"
   ]
  },
  {
   "cell_type": "code",
   "execution_count": 18,
   "metadata": {},
   "outputs": [
    {
     "name": "stdout",
     "output_type": "stream",
     "text": [
      "[8, 64, 125, 297676210733, 43986977, 99897344]\n"
     ]
    }
   ],
   "source": [
    "lis1 = [2,4,5,6677,353,464]\n",
    "lam = lambda x : x**3\n",
    "l = list(map(lam,lis1))\n",
    "print(l)"
   ]
  },
  {
   "cell_type": "markdown",
   "metadata": {},
   "source": [
    "#### 3.Create a list = [1,2,3,4,5] of lambdas in a for loop?"
   ]
  },
  {
   "cell_type": "code",
   "execution_count": 32,
   "metadata": {},
   "outputs": [
    {
     "name": "stdout",
     "output_type": "stream",
     "text": [
      "[1, 2, 3, 4, 5]\n"
     ]
    }
   ],
   "source": [
    "l2=lambda x:x\n",
    "print([l2(x) for x in range(1,6)])"
   ]
  }
 ],
 "metadata": {
  "kernelspec": {
   "display_name": "Python 3",
   "language": "python",
   "name": "python3"
  },
  "language_info": {
   "codemirror_mode": {
    "name": "ipython",
    "version": 3
   },
   "file_extension": ".py",
   "mimetype": "text/x-python",
   "name": "python",
   "nbconvert_exporter": "python",
   "pygments_lexer": "ipython3",
   "version": "3.8.3"
  }
 },
 "nbformat": 4,
 "nbformat_minor": 2
}
