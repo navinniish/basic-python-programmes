{
 "cells": [
  {
   "cell_type": "markdown",
   "id": "ddb5b750",
   "metadata": {},
   "source": [
    "Types of Datatype"
   ]
  },
  {
   "cell_type": "code",
   "execution_count": 1,
   "id": "61c43fe3",
   "metadata": {},
   "outputs": [
    {
     "data": {
      "text/plain": [
       "8"
      ]
     },
     "execution_count": 1,
     "metadata": {},
     "output_type": "execute_result"
    }
   ],
   "source": [
    "8"
   ]
  },
  {
   "cell_type": "code",
   "execution_count": 2,
   "id": "bad7fdb8",
   "metadata": {},
   "outputs": [
    {
     "data": {
      "text/plain": [
       "4.0"
      ]
     },
     "execution_count": 2,
     "metadata": {},
     "output_type": "execute_result"
    }
   ],
   "source": [
    "4.0"
   ]
  },
  {
   "cell_type": "code",
   "execution_count": 3,
   "id": "6cb7b155",
   "metadata": {},
   "outputs": [
    {
     "data": {
      "text/plain": [
       "(4+3j)"
      ]
     },
     "execution_count": 3,
     "metadata": {},
     "output_type": "execute_result"
    }
   ],
   "source": [
    "4+3j"
   ]
  },
  {
   "cell_type": "code",
   "execution_count": 4,
   "id": "2c79405c",
   "metadata": {},
   "outputs": [
    {
     "data": {
      "text/plain": [
       "'string'"
      ]
     },
     "execution_count": 4,
     "metadata": {},
     "output_type": "execute_result"
    }
   ],
   "source": [
    "'string'"
   ]
  },
  {
   "cell_type": "code",
   "execution_count": 5,
   "id": "9d4a657c",
   "metadata": {},
   "outputs": [
    {
     "data": {
      "text/plain": [
       "[1, 2, 3, 4]"
      ]
     },
     "execution_count": 5,
     "metadata": {},
     "output_type": "execute_result"
    }
   ],
   "source": [
    "l = [1,2,3,4]\n",
    "l"
   ]
  },
  {
   "cell_type": "code",
   "execution_count": 6,
   "id": "e950236d",
   "metadata": {},
   "outputs": [
    {
     "data": {
      "text/plain": [
       "(1, 2, 3, 4)"
      ]
     },
     "execution_count": 6,
     "metadata": {},
     "output_type": "execute_result"
    }
   ],
   "source": [
    "t = (1,2,3,4)\n",
    "t"
   ]
  },
  {
   "cell_type": "code",
   "execution_count": 7,
   "id": "8521b273",
   "metadata": {},
   "outputs": [
    {
     "data": {
      "text/plain": [
       "{1, 2, 3, 4}"
      ]
     },
     "execution_count": 7,
     "metadata": {},
     "output_type": "execute_result"
    }
   ],
   "source": [
    "s = {1,2,3,4}\n",
    "s"
   ]
  },
  {
   "cell_type": "code",
   "execution_count": 8,
   "id": "f7ac431f",
   "metadata": {},
   "outputs": [
    {
     "data": {
      "text/plain": [
       "{'a': 1, 'b': 2}"
      ]
     },
     "execution_count": 8,
     "metadata": {},
     "output_type": "execute_result"
    }
   ],
   "source": [
    "d = {'a' : 1, 'b' : 2}\n",
    "d"
   ]
  },
  {
   "cell_type": "markdown",
   "id": "8ee9c01f",
   "metadata": {},
   "source": [
    "Operators In Python"
   ]
  },
  {
   "cell_type": "markdown",
   "id": "0edc4232",
   "metadata": {},
   "source": [
    "1. Arithmetic Operators"
   ]
  },
  {
   "cell_type": "code",
   "execution_count": 9,
   "id": "fb45d490",
   "metadata": {},
   "outputs": [
    {
     "data": {
      "text/plain": [
       "2"
      ]
     },
     "execution_count": 9,
     "metadata": {},
     "output_type": "execute_result"
    }
   ],
   "source": [
    "1+1"
   ]
  },
  {
   "cell_type": "code",
   "execution_count": 10,
   "id": "05e862d6",
   "metadata": {},
   "outputs": [
    {
     "data": {
      "text/plain": [
       "0"
      ]
     },
     "execution_count": 10,
     "metadata": {},
     "output_type": "execute_result"
    }
   ],
   "source": [
    "2-2"
   ]
  },
  {
   "cell_type": "code",
   "execution_count": 11,
   "id": "465ae8f2",
   "metadata": {},
   "outputs": [
    {
     "data": {
      "text/plain": [
       "9"
      ]
     },
     "execution_count": 11,
     "metadata": {},
     "output_type": "execute_result"
    }
   ],
   "source": [
    "3*3"
   ]
  },
  {
   "cell_type": "code",
   "execution_count": 12,
   "id": "64785575",
   "metadata": {},
   "outputs": [
    {
     "data": {
      "text/plain": [
       "1.0"
      ]
     },
     "execution_count": 12,
     "metadata": {},
     "output_type": "execute_result"
    }
   ],
   "source": [
    "4/4"
   ]
  },
  {
   "cell_type": "code",
   "execution_count": 13,
   "id": "d63a551f",
   "metadata": {},
   "outputs": [
    {
     "data": {
      "text/plain": [
       "2"
      ]
     },
     "execution_count": 13,
     "metadata": {},
     "output_type": "execute_result"
    }
   ],
   "source": [
    "4//2"
   ]
  },
  {
   "cell_type": "code",
   "execution_count": 14,
   "id": "f865e4c1",
   "metadata": {},
   "outputs": [
    {
     "data": {
      "text/plain": [
       "3"
      ]
     },
     "execution_count": 14,
     "metadata": {},
     "output_type": "execute_result"
    }
   ],
   "source": [
    "3%10"
   ]
  },
  {
   "cell_type": "code",
   "execution_count": 15,
   "id": "d394ce80",
   "metadata": {},
   "outputs": [
    {
     "data": {
      "text/plain": [
       "268435456"
      ]
     },
     "execution_count": 15,
     "metadata": {},
     "output_type": "execute_result"
    }
   ],
   "source": [
    "4**14"
   ]
  },
  {
   "cell_type": "markdown",
   "id": "ee5f9852",
   "metadata": {},
   "source": [
    "Comparision Operators"
   ]
  },
  {
   "cell_type": "code",
   "execution_count": 16,
   "id": "c24ff6de",
   "metadata": {},
   "outputs": [
    {
     "data": {
      "text/plain": [
       "True"
      ]
     },
     "execution_count": 16,
     "metadata": {},
     "output_type": "execute_result"
    }
   ],
   "source": [
    "10>1"
   ]
  },
  {
   "cell_type": "code",
   "execution_count": 17,
   "id": "46395aed",
   "metadata": {},
   "outputs": [
    {
     "data": {
      "text/plain": [
       "True"
      ]
     },
     "execution_count": 17,
     "metadata": {},
     "output_type": "execute_result"
    }
   ],
   "source": [
    "1<4"
   ]
  },
  {
   "cell_type": "code",
   "execution_count": 18,
   "id": "b880b3fd",
   "metadata": {},
   "outputs": [
    {
     "data": {
      "text/plain": [
       "False"
      ]
     },
     "execution_count": 18,
     "metadata": {},
     "output_type": "execute_result"
    }
   ],
   "source": [
    "3>=10"
   ]
  },
  {
   "cell_type": "code",
   "execution_count": 19,
   "id": "4bc7d8d8",
   "metadata": {},
   "outputs": [
    {
     "data": {
      "text/plain": [
       "True"
      ]
     },
     "execution_count": 19,
     "metadata": {},
     "output_type": "execute_result"
    }
   ],
   "source": [
    "3<=10"
   ]
  },
  {
   "cell_type": "code",
   "execution_count": 20,
   "id": "c6eda7b5",
   "metadata": {},
   "outputs": [
    {
     "data": {
      "text/plain": [
       "False"
      ]
     },
     "execution_count": 20,
     "metadata": {},
     "output_type": "execute_result"
    }
   ],
   "source": [
    "4==3"
   ]
  },
  {
   "cell_type": "code",
   "execution_count": 21,
   "id": "2c99f044",
   "metadata": {},
   "outputs": [
    {
     "data": {
      "text/plain": [
       "True"
      ]
     },
     "execution_count": 21,
     "metadata": {},
     "output_type": "execute_result"
    }
   ],
   "source": [
    "3!=4"
   ]
  },
  {
   "cell_type": "markdown",
   "id": "011d6d71",
   "metadata": {},
   "source": [
    "Identity Operators"
   ]
  },
  {
   "cell_type": "code",
   "execution_count": 22,
   "id": "4be1eb36",
   "metadata": {},
   "outputs": [
    {
     "data": {
      "text/plain": [
       "False"
      ]
     },
     "execution_count": 22,
     "metadata": {},
     "output_type": "execute_result"
    }
   ],
   "source": [
    "num1 = 100\n",
    "num2 = 122\n",
    "num1 is num2"
   ]
  },
  {
   "cell_type": "code",
   "execution_count": 23,
   "id": "4a972a24",
   "metadata": {},
   "outputs": [
    {
     "data": {
      "text/plain": [
       "True"
      ]
     },
     "execution_count": 23,
     "metadata": {},
     "output_type": "execute_result"
    }
   ],
   "source": [
    "num1 is not num2"
   ]
  },
  {
   "cell_type": "markdown",
   "id": "3d39814c",
   "metadata": {},
   "source": [
    "Assignment operators"
   ]
  },
  {
   "cell_type": "code",
   "execution_count": 24,
   "id": "80973a3e",
   "metadata": {},
   "outputs": [],
   "source": [
    "num1 = 100"
   ]
  },
  {
   "cell_type": "code",
   "execution_count": 25,
   "id": "86083a24",
   "metadata": {},
   "outputs": [
    {
     "data": {
      "text/plain": [
       "230"
      ]
     },
     "execution_count": 25,
     "metadata": {},
     "output_type": "execute_result"
    }
   ],
   "source": [
    "num1 += 100\n",
    "num2 = num1+30\n",
    "num2"
   ]
  },
  {
   "cell_type": "code",
   "execution_count": 26,
   "id": "e0326f66",
   "metadata": {},
   "outputs": [
    {
     "data": {
      "text/plain": [
       "80"
      ]
     },
     "execution_count": 26,
     "metadata": {},
     "output_type": "execute_result"
    }
   ],
   "source": [
    "num1 -= 100\n",
    "num2 = num1-20\n",
    "num2"
   ]
  },
  {
   "cell_type": "code",
   "execution_count": 27,
   "id": "0d1e28f3",
   "metadata": {},
   "outputs": [
    {
     "data": {
      "text/plain": [
       "10.0"
      ]
     },
     "execution_count": 27,
     "metadata": {},
     "output_type": "execute_result"
    }
   ],
   "source": [
    "num1 /= 10\n",
    "num2 = num1\n",
    "num1"
   ]
  },
  {
   "cell_type": "code",
   "execution_count": 28,
   "id": "67175c86",
   "metadata": {},
   "outputs": [
    {
     "data": {
      "text/plain": [
       "100.0"
      ]
     },
     "execution_count": 28,
     "metadata": {},
     "output_type": "execute_result"
    }
   ],
   "source": [
    "num1 *= 10\n",
    "num1"
   ]
  },
  {
   "cell_type": "markdown",
   "id": "f2d82a52",
   "metadata": {},
   "source": [
    "Bitwise Operators"
   ]
  },
  {
   "cell_type": "code",
   "execution_count": 29,
   "id": "2dd7d0a3",
   "metadata": {},
   "outputs": [
    {
     "name": "stdout",
     "output_type": "stream",
     "text": [
      "True\n"
     ]
    }
   ],
   "source": [
    "nu = 10\n",
    "num = 10\n",
    "print(10==10 & 10==10)"
   ]
  },
  {
   "cell_type": "code",
   "execution_count": 30,
   "id": "cbb464a8",
   "metadata": {},
   "outputs": [
    {
     "name": "stdout",
     "output_type": "stream",
     "text": [
      "True\n"
     ]
    }
   ],
   "source": [
    "print(10==10 | 10==10)"
   ]
  },
  {
   "cell_type": "code",
   "execution_count": 31,
   "id": "269de6c3",
   "metadata": {},
   "outputs": [
    {
     "name": "stdout",
     "output_type": "stream",
     "text": [
      "0\n"
     ]
    }
   ],
   "source": [
    "print(1>>2)"
   ]
  },
  {
   "cell_type": "code",
   "execution_count": 32,
   "id": "0de04bf9",
   "metadata": {},
   "outputs": [
    {
     "name": "stdout",
     "output_type": "stream",
     "text": [
      "4\n"
     ]
    }
   ],
   "source": [
    "print(1<<2)"
   ]
  },
  {
   "cell_type": "markdown",
   "id": "49c04704",
   "metadata": {},
   "source": [
    "Logical Operators"
   ]
  },
  {
   "cell_type": "code",
   "execution_count": 33,
   "id": "cf39fb12",
   "metadata": {},
   "outputs": [
    {
     "data": {
      "text/plain": [
       "False"
      ]
     },
     "execution_count": 33,
     "metadata": {},
     "output_type": "execute_result"
    }
   ],
   "source": [
    "not(10>1)"
   ]
  },
  {
   "cell_type": "code",
   "execution_count": 34,
   "id": "e8ecded8",
   "metadata": {},
   "outputs": [
    {
     "data": {
      "text/plain": [
       "10"
      ]
     },
     "execution_count": 34,
     "metadata": {},
     "output_type": "execute_result"
    }
   ],
   "source": [
    "10 and 10"
   ]
  },
  {
   "cell_type": "code",
   "execution_count": 35,
   "id": "daf3c394",
   "metadata": {},
   "outputs": [
    {
     "data": {
      "text/plain": [
       "10"
      ]
     },
     "execution_count": 35,
     "metadata": {},
     "output_type": "execute_result"
    }
   ],
   "source": [
    "10 or 20"
   ]
  },
  {
   "cell_type": "markdown",
   "id": "714f66fd",
   "metadata": {},
   "source": [
    "Membership Oprators"
   ]
  },
  {
   "cell_type": "code",
   "execution_count": 36,
   "id": "003855f3",
   "metadata": {},
   "outputs": [
    {
     "data": {
      "text/plain": [
       "True"
      ]
     },
     "execution_count": 36,
     "metadata": {},
     "output_type": "execute_result"
    }
   ],
   "source": [
    "l = 'string' \n",
    "'stri' in l"
   ]
  },
  {
   "cell_type": "code",
   "execution_count": 37,
   "id": "9c75e26d",
   "metadata": {},
   "outputs": [
    {
     "data": {
      "text/plain": [
       "False"
      ]
     },
     "execution_count": 37,
     "metadata": {},
     "output_type": "execute_result"
    }
   ],
   "source": [
    "l = 'str'\n",
    "'r' not in l"
   ]
  },
  {
   "cell_type": "markdown",
   "id": "94975a17",
   "metadata": {},
   "source": [
    "Conditional Statements"
   ]
  },
  {
   "cell_type": "code",
   "execution_count": 38,
   "id": "6364e38c",
   "metadata": {},
   "outputs": [
    {
     "name": "stdout",
     "output_type": "stream",
     "text": [
      "Number is not equal\n"
     ]
    }
   ],
   "source": [
    "num1 = 100\n",
    "num2 = 12\n",
    "\n",
    "if num1 != num2:\n",
    "    print(\"Number is not equal\")\n",
    "elif num1 == num2:\n",
    "    print(\"Number is equal\")"
   ]
  },
  {
   "cell_type": "code",
   "execution_count": 39,
   "id": "4836d0f6",
   "metadata": {},
   "outputs": [
    {
     "name": "stdout",
     "output_type": "stream",
     "text": [
      "num1 is greater\n"
     ]
    }
   ],
   "source": [
    "if num1 > num2 :\n",
    "    print('num1 is greater')\n",
    "else:\n",
    "    ('both r equal')"
   ]
  },
  {
   "cell_type": "markdown",
   "id": "7235f6b6",
   "metadata": {},
   "source": [
    "For loops and while loops"
   ]
  },
  {
   "cell_type": "code",
   "execution_count": 40,
   "id": "51d37f52",
   "metadata": {},
   "outputs": [
    {
     "name": "stdout",
     "output_type": "stream",
     "text": [
      "0\n",
      "1\n",
      "4\n",
      "9\n",
      "16\n"
     ]
    }
   ],
   "source": [
    "for i in range(5):\n",
    "    print(i*i)"
   ]
  },
  {
   "cell_type": "code",
   "execution_count": 48,
   "id": "8e1c16f5",
   "metadata": {},
   "outputs": [
    {
     "name": "stdout",
     "output_type": "stream",
     "text": [
      "1\n",
      "4\n",
      "9\n",
      "16\n",
      "25\n"
     ]
    }
   ],
   "source": [
    "l = [1,2,3,4,5]\n",
    "for i in l:\n",
    "    print(i*i)"
   ]
  },
  {
   "cell_type": "code",
   "execution_count": 50,
   "id": "1484047e",
   "metadata": {},
   "outputs": [
    {
     "name": "stdout",
     "output_type": "stream",
     "text": [
      "Element Found\n"
     ]
    }
   ],
   "source": [
    "a = 4\n",
    "for i in l:\n",
    "    if i == a:\n",
    "        print('Element Found')\n",
    "        break\n",
    "    else :\n",
    "        continue"
   ]
  },
  {
   "cell_type": "code",
   "execution_count": 52,
   "id": "225a60a3",
   "metadata": {},
   "outputs": [
    {
     "name": "stdout",
     "output_type": "stream",
     "text": [
      "element not found\n"
     ]
    }
   ],
   "source": [
    "a = 6\n",
    "for i in l:\n",
    "    if i == a:\n",
    "        print('Element Found')\n",
    "        break\n",
    "    else :\n",
    "        continue\n",
    "else:\n",
    "    print(\"element not found\")\n",
    "    "
   ]
  },
  {
   "cell_type": "code",
   "execution_count": 53,
   "id": "f2e75b75",
   "metadata": {},
   "outputs": [
    {
     "name": "stdout",
     "output_type": "stream",
     "text": [
      "0\n",
      "1\n",
      "2\n",
      "3\n",
      "4\n"
     ]
    }
   ],
   "source": [
    "for index, value in enumerate(l):\n",
    "    print(index)"
   ]
  },
  {
   "cell_type": "code",
   "execution_count": 56,
   "id": "86cd6627",
   "metadata": {},
   "outputs": [],
   "source": [
    "while i < a:\n",
    "    print(i)\n",
    "    i+=1"
   ]
  },
  {
   "cell_type": "code",
   "execution_count": null,
   "id": "92408dc1",
   "metadata": {},
   "outputs": [],
   "source": []
  },
  {
   "cell_type": "code",
   "execution_count": null,
   "id": "5a00d15a",
   "metadata": {},
   "outputs": [],
   "source": []
  },
  {
   "cell_type": "code",
   "execution_count": null,
   "id": "b9409241",
   "metadata": {},
   "outputs": [],
   "source": []
  },
  {
   "cell_type": "code",
   "execution_count": null,
   "id": "246dd415",
   "metadata": {},
   "outputs": [],
   "source": []
  }
 ],
 "metadata": {
  "kernelspec": {
   "display_name": "Python 3 (ipykernel)",
   "language": "python",
   "name": "python3"
  },
  "language_info": {
   "codemirror_mode": {
    "name": "ipython",
    "version": 3
   },
   "file_extension": ".py",
   "mimetype": "text/x-python",
   "name": "python",
   "nbconvert_exporter": "python",
   "pygments_lexer": "ipython3",
   "version": "3.9.7"
  }
 },
 "nbformat": 4,
 "nbformat_minor": 5
}
